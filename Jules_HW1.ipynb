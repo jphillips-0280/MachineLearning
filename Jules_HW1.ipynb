{
  "nbformat": 4,
  "nbformat_minor": 0,
  "metadata": {
    "colab": {
      "provenance": [],
      "authorship_tag": "ABX9TyMzLCcHSSMiCGsq9yZ1kMZa",
      "include_colab_link": true
    },
    "kernelspec": {
      "name": "python3",
      "display_name": "Python 3"
    },
    "language_info": {
      "name": "python"
    }
  },
  "cells": [
    {
      "cell_type": "markdown",
      "metadata": {
        "id": "view-in-github",
        "colab_type": "text"
      },
      "source": [
        "<a href=\"https://colab.research.google.com/github/jphillips-0280/MachineLearning/blob/main/Jules_HW1.ipynb\" target=\"_parent\"><img src=\"https://colab.research.google.com/assets/colab-badge.svg\" alt=\"Open In Colab\"/></a>"
      ]
    },
    {
      "cell_type": "markdown",
      "source": [
        "Homework 1 - Jules Phillips\n"
      ],
      "metadata": {
        "id": "_vXm39fjAub2"
      }
    },
    {
      "cell_type": "markdown",
      "source": [
        "Question 1"
      ],
      "metadata": {
        "id": "K__ojm735Yld"
      }
    },
    {
      "cell_type": "code",
      "source": [
        "import numpy as np\n",
        "from numpy import linalg as LA\n",
        "\n",
        "### a\n",
        "\n",
        "x1 = [2,3,4,8,9]\n",
        "x2 = [2,-3,-4,89]\n",
        "F_x1 = len(x1)\n",
        "F_x2 = len(x2)\n",
        "print(\"length of feature vector x1 = \" + str(F_x1))\n",
        "print(\"length of feature vector x2 = \" + str(F_x2))\n",
        "\n",
        "\n",
        "### b\n",
        "\n",
        "print(\"for vector x1, L1 = \" + str(LA.norm(x1,1)) + \", L2 = \" + str(LA.norm(x1,2)) + \", L_inf = \"+ str(LA.norm(x1,np.inf)))\n",
        "print(\"for vector x2, L1 = \" + str(LA.norm(x2,1)) + \", L2 = \" + str(LA.norm(x2,2)) + \", L_inf = \"+ str(LA.norm(x2,np.inf)))\n"
      ],
      "metadata": {
        "colab": {
          "base_uri": "https://localhost:8080/"
        },
        "id": "gdg0tdMYBUMz",
        "outputId": "5c1b0456-6738-4c70-fc24-e203382e1eea"
      },
      "execution_count": null,
      "outputs": [
        {
          "output_type": "stream",
          "name": "stdout",
          "text": [
            "length of feature vector x1 = 5\n",
            "length of feature vector x2 = 4\n",
            "for vector x1, L1 = 26.0, L2 = 13.19090595827292, L_inf = 9.0\n",
            "for vector x2, L1 = 98.0, L2 = 89.16277250063504, L_inf = 89.0\n"
          ]
        }
      ]
    },
    {
      "cell_type": "markdown",
      "source": [
        "Question 2"
      ],
      "metadata": {
        "id": "im-vRBbB5WiG"
      }
    },
    {
      "cell_type": "code",
      "source": [
        "x_inputsize = [1024,1024]\n",
        "y_outputsize = [64,64]\n",
        "\n",
        "# a\n",
        "Fx_len = x_inputsize[0]*x_inputsize[1]\n",
        "print(\"length of feature vector x = \" + str(Fx_len))\n",
        "\n",
        "# b\n",
        "Fy_len = y_outputsize[0]*y_outputsize[1]\n",
        "print(\"length of feature vector y = \" + str(Fy_len))\n",
        "\n",
        "# c\n",
        "\n",
        "  # y = Wx+b\n",
        "\n",
        "# y, b, W*x must all be the same size. If the size of y is 4096,\n",
        "# then the size of b must be 4096, aswell.\n",
        "\n",
        "print(\"number of elements in b = \" + str(Fy_len))\n",
        "\n",
        "# if the size of the W*x matrix is 4096, and the size of\n",
        "# the x matrix is of length 1048576, then W must have 1048576/4096 elements\n",
        "# so 256\n",
        "\n",
        "print(\"number of elements in W = \" + str(Fx_len/Fy_len))\n"
      ],
      "metadata": {
        "colab": {
          "base_uri": "https://localhost:8080/"
        },
        "id": "RWHcBS1XC8Rk",
        "outputId": "3f194b1c-bfd5-4560-e20e-93d57f0650f7"
      },
      "execution_count": null,
      "outputs": [
        {
          "output_type": "stream",
          "name": "stdout",
          "text": [
            "length of feature vector x = 1048576\n",
            "length of feature vector y = 4096\n",
            "number of elements in b = 4096\n",
            "number of elements in W = 256.0\n"
          ]
        }
      ]
    },
    {
      "cell_type": "markdown",
      "source": [
        "Question 3"
      ],
      "metadata": {
        "id": "ypVjs6KL5US6"
      }
    },
    {
      "cell_type": "code",
      "source": [
        "W = [[1,-1,],[2,0]]\n",
        "\n",
        "print(\"for vector W, L1 = \" + str(LA.norm(W,1)) + \", L2 = \" + str(LA.norm(W,2)) + \", L_inf = \"+ str(LA.norm(W,np.inf)) + \", Frobenius norm = \"+ str(LA.norm(W,'fro')))"
      ],
      "metadata": {
        "colab": {
          "base_uri": "https://localhost:8080/"
        },
        "id": "uOybhan5ELKJ",
        "outputId": "c01a04ea-1ead-472b-8613-b0975edee0cd"
      },
      "execution_count": null,
      "outputs": [
        {
          "output_type": "stream",
          "name": "stdout",
          "text": [
            "for vector W, L1 = 3.0, L2 = 2.2882456112707374, L_inf = 2.0, Frobenius norm = 2.449489742783178\n"
          ]
        }
      ]
    },
    {
      "cell_type": "markdown",
      "source": [
        "Question 4"
      ],
      "metadata": {
        "id": "3o7xOKB55Pbx"
      }
    },
    {
      "cell_type": "code",
      "execution_count": null,
      "metadata": {
        "id": "1b50c62f"
      },
      "outputs": [],
      "source": [
        "from sklearn import datasets\n",
        "\n",
        "iris = datasets.load_iris()"
      ]
    },
    {
      "cell_type": "code",
      "execution_count": null,
      "metadata": {
        "scrolled": false,
        "id": "260c7e3d",
        "outputId": "9d8e3991-3578-415d-cb57-47c09f75f146",
        "colab": {
          "base_uri": "https://localhost:8080/"
        }
      },
      "outputs": [
        {
          "output_type": "execute_result",
          "data": {
            "text/plain": [
              "array([[5.1, 3.5, 1.4, 0.2],\n",
              "       [4.9, 3. , 1.4, 0.2],\n",
              "       [4.7, 3.2, 1.3, 0.2],\n",
              "       [4.6, 3.1, 1.5, 0.2],\n",
              "       [5. , 3.6, 1.4, 0.2],\n",
              "       [5.4, 3.9, 1.7, 0.4],\n",
              "       [4.6, 3.4, 1.4, 0.3],\n",
              "       [5. , 3.4, 1.5, 0.2],\n",
              "       [4.4, 2.9, 1.4, 0.2],\n",
              "       [4.9, 3.1, 1.5, 0.1],\n",
              "       [5.4, 3.7, 1.5, 0.2],\n",
              "       [4.8, 3.4, 1.6, 0.2],\n",
              "       [4.8, 3. , 1.4, 0.1],\n",
              "       [4.3, 3. , 1.1, 0.1],\n",
              "       [5.8, 4. , 1.2, 0.2],\n",
              "       [5.7, 4.4, 1.5, 0.4],\n",
              "       [5.4, 3.9, 1.3, 0.4],\n",
              "       [5.1, 3.5, 1.4, 0.3],\n",
              "       [5.7, 3.8, 1.7, 0.3],\n",
              "       [5.1, 3.8, 1.5, 0.3],\n",
              "       [5.4, 3.4, 1.7, 0.2],\n",
              "       [5.1, 3.7, 1.5, 0.4],\n",
              "       [4.6, 3.6, 1. , 0.2],\n",
              "       [5.1, 3.3, 1.7, 0.5],\n",
              "       [4.8, 3.4, 1.9, 0.2],\n",
              "       [5. , 3. , 1.6, 0.2],\n",
              "       [5. , 3.4, 1.6, 0.4],\n",
              "       [5.2, 3.5, 1.5, 0.2],\n",
              "       [5.2, 3.4, 1.4, 0.2],\n",
              "       [4.7, 3.2, 1.6, 0.2],\n",
              "       [4.8, 3.1, 1.6, 0.2],\n",
              "       [5.4, 3.4, 1.5, 0.4],\n",
              "       [5.2, 4.1, 1.5, 0.1],\n",
              "       [5.5, 4.2, 1.4, 0.2],\n",
              "       [4.9, 3.1, 1.5, 0.2],\n",
              "       [5. , 3.2, 1.2, 0.2],\n",
              "       [5.5, 3.5, 1.3, 0.2],\n",
              "       [4.9, 3.6, 1.4, 0.1],\n",
              "       [4.4, 3. , 1.3, 0.2],\n",
              "       [5.1, 3.4, 1.5, 0.2],\n",
              "       [5. , 3.5, 1.3, 0.3],\n",
              "       [4.5, 2.3, 1.3, 0.3],\n",
              "       [4.4, 3.2, 1.3, 0.2],\n",
              "       [5. , 3.5, 1.6, 0.6],\n",
              "       [5.1, 3.8, 1.9, 0.4],\n",
              "       [4.8, 3. , 1.4, 0.3],\n",
              "       [5.1, 3.8, 1.6, 0.2],\n",
              "       [4.6, 3.2, 1.4, 0.2],\n",
              "       [5.3, 3.7, 1.5, 0.2],\n",
              "       [5. , 3.3, 1.4, 0.2],\n",
              "       [7. , 3.2, 4.7, 1.4],\n",
              "       [6.4, 3.2, 4.5, 1.5],\n",
              "       [6.9, 3.1, 4.9, 1.5],\n",
              "       [5.5, 2.3, 4. , 1.3],\n",
              "       [6.5, 2.8, 4.6, 1.5],\n",
              "       [5.7, 2.8, 4.5, 1.3],\n",
              "       [6.3, 3.3, 4.7, 1.6],\n",
              "       [4.9, 2.4, 3.3, 1. ],\n",
              "       [6.6, 2.9, 4.6, 1.3],\n",
              "       [5.2, 2.7, 3.9, 1.4],\n",
              "       [5. , 2. , 3.5, 1. ],\n",
              "       [5.9, 3. , 4.2, 1.5],\n",
              "       [6. , 2.2, 4. , 1. ],\n",
              "       [6.1, 2.9, 4.7, 1.4],\n",
              "       [5.6, 2.9, 3.6, 1.3],\n",
              "       [6.7, 3.1, 4.4, 1.4],\n",
              "       [5.6, 3. , 4.5, 1.5],\n",
              "       [5.8, 2.7, 4.1, 1. ],\n",
              "       [6.2, 2.2, 4.5, 1.5],\n",
              "       [5.6, 2.5, 3.9, 1.1],\n",
              "       [5.9, 3.2, 4.8, 1.8],\n",
              "       [6.1, 2.8, 4. , 1.3],\n",
              "       [6.3, 2.5, 4.9, 1.5],\n",
              "       [6.1, 2.8, 4.7, 1.2],\n",
              "       [6.4, 2.9, 4.3, 1.3],\n",
              "       [6.6, 3. , 4.4, 1.4],\n",
              "       [6.8, 2.8, 4.8, 1.4],\n",
              "       [6.7, 3. , 5. , 1.7],\n",
              "       [6. , 2.9, 4.5, 1.5],\n",
              "       [5.7, 2.6, 3.5, 1. ],\n",
              "       [5.5, 2.4, 3.8, 1.1],\n",
              "       [5.5, 2.4, 3.7, 1. ],\n",
              "       [5.8, 2.7, 3.9, 1.2],\n",
              "       [6. , 2.7, 5.1, 1.6],\n",
              "       [5.4, 3. , 4.5, 1.5],\n",
              "       [6. , 3.4, 4.5, 1.6],\n",
              "       [6.7, 3.1, 4.7, 1.5],\n",
              "       [6.3, 2.3, 4.4, 1.3],\n",
              "       [5.6, 3. , 4.1, 1.3],\n",
              "       [5.5, 2.5, 4. , 1.3],\n",
              "       [5.5, 2.6, 4.4, 1.2],\n",
              "       [6.1, 3. , 4.6, 1.4],\n",
              "       [5.8, 2.6, 4. , 1.2],\n",
              "       [5. , 2.3, 3.3, 1. ],\n",
              "       [5.6, 2.7, 4.2, 1.3],\n",
              "       [5.7, 3. , 4.2, 1.2],\n",
              "       [5.7, 2.9, 4.2, 1.3],\n",
              "       [6.2, 2.9, 4.3, 1.3],\n",
              "       [5.1, 2.5, 3. , 1.1],\n",
              "       [5.7, 2.8, 4.1, 1.3],\n",
              "       [6.3, 3.3, 6. , 2.5],\n",
              "       [5.8, 2.7, 5.1, 1.9],\n",
              "       [7.1, 3. , 5.9, 2.1],\n",
              "       [6.3, 2.9, 5.6, 1.8],\n",
              "       [6.5, 3. , 5.8, 2.2],\n",
              "       [7.6, 3. , 6.6, 2.1],\n",
              "       [4.9, 2.5, 4.5, 1.7],\n",
              "       [7.3, 2.9, 6.3, 1.8],\n",
              "       [6.7, 2.5, 5.8, 1.8],\n",
              "       [7.2, 3.6, 6.1, 2.5],\n",
              "       [6.5, 3.2, 5.1, 2. ],\n",
              "       [6.4, 2.7, 5.3, 1.9],\n",
              "       [6.8, 3. , 5.5, 2.1],\n",
              "       [5.7, 2.5, 5. , 2. ],\n",
              "       [5.8, 2.8, 5.1, 2.4],\n",
              "       [6.4, 3.2, 5.3, 2.3],\n",
              "       [6.5, 3. , 5.5, 1.8],\n",
              "       [7.7, 3.8, 6.7, 2.2],\n",
              "       [7.7, 2.6, 6.9, 2.3],\n",
              "       [6. , 2.2, 5. , 1.5],\n",
              "       [6.9, 3.2, 5.7, 2.3],\n",
              "       [5.6, 2.8, 4.9, 2. ],\n",
              "       [7.7, 2.8, 6.7, 2. ],\n",
              "       [6.3, 2.7, 4.9, 1.8],\n",
              "       [6.7, 3.3, 5.7, 2.1],\n",
              "       [7.2, 3.2, 6. , 1.8],\n",
              "       [6.2, 2.8, 4.8, 1.8],\n",
              "       [6.1, 3. , 4.9, 1.8],\n",
              "       [6.4, 2.8, 5.6, 2.1],\n",
              "       [7.2, 3. , 5.8, 1.6],\n",
              "       [7.4, 2.8, 6.1, 1.9],\n",
              "       [7.9, 3.8, 6.4, 2. ],\n",
              "       [6.4, 2.8, 5.6, 2.2],\n",
              "       [6.3, 2.8, 5.1, 1.5],\n",
              "       [6.1, 2.6, 5.6, 1.4],\n",
              "       [7.7, 3. , 6.1, 2.3],\n",
              "       [6.3, 3.4, 5.6, 2.4],\n",
              "       [6.4, 3.1, 5.5, 1.8],\n",
              "       [6. , 3. , 4.8, 1.8],\n",
              "       [6.9, 3.1, 5.4, 2.1],\n",
              "       [6.7, 3.1, 5.6, 2.4],\n",
              "       [6.9, 3.1, 5.1, 2.3],\n",
              "       [5.8, 2.7, 5.1, 1.9],\n",
              "       [6.8, 3.2, 5.9, 2.3],\n",
              "       [6.7, 3.3, 5.7, 2.5],\n",
              "       [6.7, 3. , 5.2, 2.3],\n",
              "       [6.3, 2.5, 5. , 1.9],\n",
              "       [6.5, 3. , 5.2, 2. ],\n",
              "       [6.2, 3.4, 5.4, 2.3],\n",
              "       [5.9, 3. , 5.1, 1.8]])"
            ]
          },
          "metadata": {},
          "execution_count": 2
        }
      ],
      "source": [
        "iris.data"
      ]
    },
    {
      "cell_type": "code",
      "execution_count": null,
      "metadata": {
        "id": "caf8b336",
        "outputId": "3d442392-f977-43bd-834d-fa7b9324df02",
        "colab": {
          "base_uri": "https://localhost:8080/"
        }
      },
      "outputs": [
        {
          "output_type": "execute_result",
          "data": {
            "text/plain": [
              "['sepal length (cm)',\n",
              " 'sepal width (cm)',\n",
              " 'petal length (cm)',\n",
              " 'petal width (cm)']"
            ]
          },
          "metadata": {},
          "execution_count": 3
        }
      ],
      "source": [
        "iris.feature_names"
      ]
    },
    {
      "cell_type": "code",
      "execution_count": null,
      "metadata": {
        "id": "805e1ce9",
        "outputId": "ed9a9d50-748d-4479-e9d1-2d013c7b0719",
        "colab": {
          "base_uri": "https://localhost:8080/"
        }
      },
      "outputs": [
        {
          "output_type": "execute_result",
          "data": {
            "text/plain": [
              "array(['setosa', 'versicolor', 'virginica'], dtype='<U10')"
            ]
          },
          "metadata": {},
          "execution_count": 4
        }
      ],
      "source": [
        "iris.target_names"
      ]
    },
    {
      "cell_type": "code",
      "execution_count": null,
      "metadata": {
        "id": "3756ce67",
        "outputId": "d8f75593-b7a9-44cf-9974-d464ac977e50",
        "colab": {
          "base_uri": "https://localhost:8080/"
        }
      },
      "outputs": [
        {
          "output_type": "execute_result",
          "data": {
            "text/plain": [
              "array([0, 0, 0, 0, 0, 0, 0, 0, 0, 0, 0, 0, 0, 0, 0, 0, 0, 0, 0, 0, 0, 0,\n",
              "       0, 0, 0, 0, 0, 0, 0, 0, 0, 0, 0, 0, 0, 0, 0, 0, 0, 0, 0, 0, 0, 0,\n",
              "       0, 0, 0, 0, 0, 0, 1, 1, 1, 1, 1, 1, 1, 1, 1, 1, 1, 1, 1, 1, 1, 1,\n",
              "       1, 1, 1, 1, 1, 1, 1, 1, 1, 1, 1, 1, 1, 1, 1, 1, 1, 1, 1, 1, 1, 1,\n",
              "       1, 1, 1, 1, 1, 1, 1, 1, 1, 1, 1, 1, 2, 2, 2, 2, 2, 2, 2, 2, 2, 2,\n",
              "       2, 2, 2, 2, 2, 2, 2, 2, 2, 2, 2, 2, 2, 2, 2, 2, 2, 2, 2, 2, 2, 2,\n",
              "       2, 2, 2, 2, 2, 2, 2, 2, 2, 2, 2, 2, 2, 2, 2, 2, 2, 2])"
            ]
          },
          "metadata": {},
          "execution_count": 5
        }
      ],
      "source": [
        "iris.target"
      ]
    },
    {
      "cell_type": "code",
      "execution_count": null,
      "metadata": {
        "id": "3df739de"
      },
      "outputs": [],
      "source": [
        "X = iris.data\n",
        "y = iris.target"
      ]
    },
    {
      "cell_type": "code",
      "execution_count": null,
      "metadata": {
        "id": "13b1d534",
        "outputId": "f8ff6fce-cac4-44e3-981b-99594cb2b300",
        "colab": {
          "base_uri": "https://localhost:8080/"
        }
      },
      "outputs": [
        {
          "output_type": "execute_result",
          "data": {
            "text/plain": [
              "(150, 4)"
            ]
          },
          "metadata": {},
          "execution_count": 7
        }
      ],
      "source": [
        "X.shape"
      ]
    },
    {
      "cell_type": "code",
      "execution_count": null,
      "metadata": {
        "id": "4c9d14a9",
        "outputId": "97a352af-74bc-4532-a4f9-d1b5b19db207",
        "colab": {
          "base_uri": "https://localhost:8080/"
        }
      },
      "outputs": [
        {
          "output_type": "execute_result",
          "data": {
            "text/plain": [
              "(150,)"
            ]
          },
          "metadata": {},
          "execution_count": 8
        }
      ],
      "source": [
        "y.shape"
      ]
    },
    {
      "cell_type": "code",
      "execution_count": null,
      "metadata": {
        "id": "c60a4358"
      },
      "outputs": [],
      "source": [
        "%notebook inline\n",
        "import matplotlib.pyplot as plt"
      ]
    },
    {
      "cell_type": "code",
      "execution_count": null,
      "metadata": {
        "id": "5a6b6ffd"
      },
      "outputs": [],
      "source": [
        "X = iris.data[:, :3] # only selecting first two features\n",
        "y = iris.target"
      ]
    },
    {
      "cell_type": "code",
      "execution_count": null,
      "metadata": {
        "id": "7bf5bc5a"
      },
      "outputs": [],
      "source": [
        "from sklearn.model_selection import train_test_split\n",
        "\n",
        "X_train, X_test, y_train, y_test=train_test_split(\n",
        "    X,y,\n",
        "    test_size=0.40,\n",
        "    train_size=0.60,\n",
        "    random_state=123,\n",
        "    shuffle=True,\n",
        "    stratify=y)"
      ]
    },
    {
      "cell_type": "code",
      "execution_count": null,
      "metadata": {
        "id": "8c33fa86",
        "outputId": "73cabc15-3190-4679-f90d-96d319918d6f",
        "colab": {
          "base_uri": "https://localhost:8080/",
          "height": 80
        }
      },
      "outputs": [
        {
          "output_type": "execute_result",
          "data": {
            "text/plain": [
              "SVC()"
            ],
            "text/html": [
              "<style>#sk-container-id-1 {\n",
              "  /* Definition of color scheme common for light and dark mode */\n",
              "  --sklearn-color-text: #000;\n",
              "  --sklearn-color-text-muted: #666;\n",
              "  --sklearn-color-line: gray;\n",
              "  /* Definition of color scheme for unfitted estimators */\n",
              "  --sklearn-color-unfitted-level-0: #fff5e6;\n",
              "  --sklearn-color-unfitted-level-1: #f6e4d2;\n",
              "  --sklearn-color-unfitted-level-2: #ffe0b3;\n",
              "  --sklearn-color-unfitted-level-3: chocolate;\n",
              "  /* Definition of color scheme for fitted estimators */\n",
              "  --sklearn-color-fitted-level-0: #f0f8ff;\n",
              "  --sklearn-color-fitted-level-1: #d4ebff;\n",
              "  --sklearn-color-fitted-level-2: #b3dbfd;\n",
              "  --sklearn-color-fitted-level-3: cornflowerblue;\n",
              "\n",
              "  /* Specific color for light theme */\n",
              "  --sklearn-color-text-on-default-background: var(--sg-text-color, var(--theme-code-foreground, var(--jp-content-font-color1, black)));\n",
              "  --sklearn-color-background: var(--sg-background-color, var(--theme-background, var(--jp-layout-color0, white)));\n",
              "  --sklearn-color-border-box: var(--sg-text-color, var(--theme-code-foreground, var(--jp-content-font-color1, black)));\n",
              "  --sklearn-color-icon: #696969;\n",
              "\n",
              "  @media (prefers-color-scheme: dark) {\n",
              "    /* Redefinition of color scheme for dark theme */\n",
              "    --sklearn-color-text-on-default-background: var(--sg-text-color, var(--theme-code-foreground, var(--jp-content-font-color1, white)));\n",
              "    --sklearn-color-background: var(--sg-background-color, var(--theme-background, var(--jp-layout-color0, #111)));\n",
              "    --sklearn-color-border-box: var(--sg-text-color, var(--theme-code-foreground, var(--jp-content-font-color1, white)));\n",
              "    --sklearn-color-icon: #878787;\n",
              "  }\n",
              "}\n",
              "\n",
              "#sk-container-id-1 {\n",
              "  color: var(--sklearn-color-text);\n",
              "}\n",
              "\n",
              "#sk-container-id-1 pre {\n",
              "  padding: 0;\n",
              "}\n",
              "\n",
              "#sk-container-id-1 input.sk-hidden--visually {\n",
              "  border: 0;\n",
              "  clip: rect(1px 1px 1px 1px);\n",
              "  clip: rect(1px, 1px, 1px, 1px);\n",
              "  height: 1px;\n",
              "  margin: -1px;\n",
              "  overflow: hidden;\n",
              "  padding: 0;\n",
              "  position: absolute;\n",
              "  width: 1px;\n",
              "}\n",
              "\n",
              "#sk-container-id-1 div.sk-dashed-wrapped {\n",
              "  border: 1px dashed var(--sklearn-color-line);\n",
              "  margin: 0 0.4em 0.5em 0.4em;\n",
              "  box-sizing: border-box;\n",
              "  padding-bottom: 0.4em;\n",
              "  background-color: var(--sklearn-color-background);\n",
              "}\n",
              "\n",
              "#sk-container-id-1 div.sk-container {\n",
              "  /* jupyter's `normalize.less` sets `[hidden] { display: none; }`\n",
              "     but bootstrap.min.css set `[hidden] { display: none !important; }`\n",
              "     so we also need the `!important` here to be able to override the\n",
              "     default hidden behavior on the sphinx rendered scikit-learn.org.\n",
              "     See: https://github.com/scikit-learn/scikit-learn/issues/21755 */\n",
              "  display: inline-block !important;\n",
              "  position: relative;\n",
              "}\n",
              "\n",
              "#sk-container-id-1 div.sk-text-repr-fallback {\n",
              "  display: none;\n",
              "}\n",
              "\n",
              "div.sk-parallel-item,\n",
              "div.sk-serial,\n",
              "div.sk-item {\n",
              "  /* draw centered vertical line to link estimators */\n",
              "  background-image: linear-gradient(var(--sklearn-color-text-on-default-background), var(--sklearn-color-text-on-default-background));\n",
              "  background-size: 2px 100%;\n",
              "  background-repeat: no-repeat;\n",
              "  background-position: center center;\n",
              "}\n",
              "\n",
              "/* Parallel-specific style estimator block */\n",
              "\n",
              "#sk-container-id-1 div.sk-parallel-item::after {\n",
              "  content: \"\";\n",
              "  width: 100%;\n",
              "  border-bottom: 2px solid var(--sklearn-color-text-on-default-background);\n",
              "  flex-grow: 1;\n",
              "}\n",
              "\n",
              "#sk-container-id-1 div.sk-parallel {\n",
              "  display: flex;\n",
              "  align-items: stretch;\n",
              "  justify-content: center;\n",
              "  background-color: var(--sklearn-color-background);\n",
              "  position: relative;\n",
              "}\n",
              "\n",
              "#sk-container-id-1 div.sk-parallel-item {\n",
              "  display: flex;\n",
              "  flex-direction: column;\n",
              "}\n",
              "\n",
              "#sk-container-id-1 div.sk-parallel-item:first-child::after {\n",
              "  align-self: flex-end;\n",
              "  width: 50%;\n",
              "}\n",
              "\n",
              "#sk-container-id-1 div.sk-parallel-item:last-child::after {\n",
              "  align-self: flex-start;\n",
              "  width: 50%;\n",
              "}\n",
              "\n",
              "#sk-container-id-1 div.sk-parallel-item:only-child::after {\n",
              "  width: 0;\n",
              "}\n",
              "\n",
              "/* Serial-specific style estimator block */\n",
              "\n",
              "#sk-container-id-1 div.sk-serial {\n",
              "  display: flex;\n",
              "  flex-direction: column;\n",
              "  align-items: center;\n",
              "  background-color: var(--sklearn-color-background);\n",
              "  padding-right: 1em;\n",
              "  padding-left: 1em;\n",
              "}\n",
              "\n",
              "\n",
              "/* Toggleable style: style used for estimator/Pipeline/ColumnTransformer box that is\n",
              "clickable and can be expanded/collapsed.\n",
              "- Pipeline and ColumnTransformer use this feature and define the default style\n",
              "- Estimators will overwrite some part of the style using the `sk-estimator` class\n",
              "*/\n",
              "\n",
              "/* Pipeline and ColumnTransformer style (default) */\n",
              "\n",
              "#sk-container-id-1 div.sk-toggleable {\n",
              "  /* Default theme specific background. It is overwritten whether we have a\n",
              "  specific estimator or a Pipeline/ColumnTransformer */\n",
              "  background-color: var(--sklearn-color-background);\n",
              "}\n",
              "\n",
              "/* Toggleable label */\n",
              "#sk-container-id-1 label.sk-toggleable__label {\n",
              "  cursor: pointer;\n",
              "  display: flex;\n",
              "  width: 100%;\n",
              "  margin-bottom: 0;\n",
              "  padding: 0.5em;\n",
              "  box-sizing: border-box;\n",
              "  text-align: center;\n",
              "  align-items: start;\n",
              "  justify-content: space-between;\n",
              "  gap: 0.5em;\n",
              "}\n",
              "\n",
              "#sk-container-id-1 label.sk-toggleable__label .caption {\n",
              "  font-size: 0.6rem;\n",
              "  font-weight: lighter;\n",
              "  color: var(--sklearn-color-text-muted);\n",
              "}\n",
              "\n",
              "#sk-container-id-1 label.sk-toggleable__label-arrow:before {\n",
              "  /* Arrow on the left of the label */\n",
              "  content: \"▸\";\n",
              "  float: left;\n",
              "  margin-right: 0.25em;\n",
              "  color: var(--sklearn-color-icon);\n",
              "}\n",
              "\n",
              "#sk-container-id-1 label.sk-toggleable__label-arrow:hover:before {\n",
              "  color: var(--sklearn-color-text);\n",
              "}\n",
              "\n",
              "/* Toggleable content - dropdown */\n",
              "\n",
              "#sk-container-id-1 div.sk-toggleable__content {\n",
              "  max-height: 0;\n",
              "  max-width: 0;\n",
              "  overflow: hidden;\n",
              "  text-align: left;\n",
              "  /* unfitted */\n",
              "  background-color: var(--sklearn-color-unfitted-level-0);\n",
              "}\n",
              "\n",
              "#sk-container-id-1 div.sk-toggleable__content.fitted {\n",
              "  /* fitted */\n",
              "  background-color: var(--sklearn-color-fitted-level-0);\n",
              "}\n",
              "\n",
              "#sk-container-id-1 div.sk-toggleable__content pre {\n",
              "  margin: 0.2em;\n",
              "  border-radius: 0.25em;\n",
              "  color: var(--sklearn-color-text);\n",
              "  /* unfitted */\n",
              "  background-color: var(--sklearn-color-unfitted-level-0);\n",
              "}\n",
              "\n",
              "#sk-container-id-1 div.sk-toggleable__content.fitted pre {\n",
              "  /* unfitted */\n",
              "  background-color: var(--sklearn-color-fitted-level-0);\n",
              "}\n",
              "\n",
              "#sk-container-id-1 input.sk-toggleable__control:checked~div.sk-toggleable__content {\n",
              "  /* Expand drop-down */\n",
              "  max-height: 200px;\n",
              "  max-width: 100%;\n",
              "  overflow: auto;\n",
              "}\n",
              "\n",
              "#sk-container-id-1 input.sk-toggleable__control:checked~label.sk-toggleable__label-arrow:before {\n",
              "  content: \"▾\";\n",
              "}\n",
              "\n",
              "/* Pipeline/ColumnTransformer-specific style */\n",
              "\n",
              "#sk-container-id-1 div.sk-label input.sk-toggleable__control:checked~label.sk-toggleable__label {\n",
              "  color: var(--sklearn-color-text);\n",
              "  background-color: var(--sklearn-color-unfitted-level-2);\n",
              "}\n",
              "\n",
              "#sk-container-id-1 div.sk-label.fitted input.sk-toggleable__control:checked~label.sk-toggleable__label {\n",
              "  background-color: var(--sklearn-color-fitted-level-2);\n",
              "}\n",
              "\n",
              "/* Estimator-specific style */\n",
              "\n",
              "/* Colorize estimator box */\n",
              "#sk-container-id-1 div.sk-estimator input.sk-toggleable__control:checked~label.sk-toggleable__label {\n",
              "  /* unfitted */\n",
              "  background-color: var(--sklearn-color-unfitted-level-2);\n",
              "}\n",
              "\n",
              "#sk-container-id-1 div.sk-estimator.fitted input.sk-toggleable__control:checked~label.sk-toggleable__label {\n",
              "  /* fitted */\n",
              "  background-color: var(--sklearn-color-fitted-level-2);\n",
              "}\n",
              "\n",
              "#sk-container-id-1 div.sk-label label.sk-toggleable__label,\n",
              "#sk-container-id-1 div.sk-label label {\n",
              "  /* The background is the default theme color */\n",
              "  color: var(--sklearn-color-text-on-default-background);\n",
              "}\n",
              "\n",
              "/* On hover, darken the color of the background */\n",
              "#sk-container-id-1 div.sk-label:hover label.sk-toggleable__label {\n",
              "  color: var(--sklearn-color-text);\n",
              "  background-color: var(--sklearn-color-unfitted-level-2);\n",
              "}\n",
              "\n",
              "/* Label box, darken color on hover, fitted */\n",
              "#sk-container-id-1 div.sk-label.fitted:hover label.sk-toggleable__label.fitted {\n",
              "  color: var(--sklearn-color-text);\n",
              "  background-color: var(--sklearn-color-fitted-level-2);\n",
              "}\n",
              "\n",
              "/* Estimator label */\n",
              "\n",
              "#sk-container-id-1 div.sk-label label {\n",
              "  font-family: monospace;\n",
              "  font-weight: bold;\n",
              "  display: inline-block;\n",
              "  line-height: 1.2em;\n",
              "}\n",
              "\n",
              "#sk-container-id-1 div.sk-label-container {\n",
              "  text-align: center;\n",
              "}\n",
              "\n",
              "/* Estimator-specific */\n",
              "#sk-container-id-1 div.sk-estimator {\n",
              "  font-family: monospace;\n",
              "  border: 1px dotted var(--sklearn-color-border-box);\n",
              "  border-radius: 0.25em;\n",
              "  box-sizing: border-box;\n",
              "  margin-bottom: 0.5em;\n",
              "  /* unfitted */\n",
              "  background-color: var(--sklearn-color-unfitted-level-0);\n",
              "}\n",
              "\n",
              "#sk-container-id-1 div.sk-estimator.fitted {\n",
              "  /* fitted */\n",
              "  background-color: var(--sklearn-color-fitted-level-0);\n",
              "}\n",
              "\n",
              "/* on hover */\n",
              "#sk-container-id-1 div.sk-estimator:hover {\n",
              "  /* unfitted */\n",
              "  background-color: var(--sklearn-color-unfitted-level-2);\n",
              "}\n",
              "\n",
              "#sk-container-id-1 div.sk-estimator.fitted:hover {\n",
              "  /* fitted */\n",
              "  background-color: var(--sklearn-color-fitted-level-2);\n",
              "}\n",
              "\n",
              "/* Specification for estimator info (e.g. \"i\" and \"?\") */\n",
              "\n",
              "/* Common style for \"i\" and \"?\" */\n",
              "\n",
              ".sk-estimator-doc-link,\n",
              "a:link.sk-estimator-doc-link,\n",
              "a:visited.sk-estimator-doc-link {\n",
              "  float: right;\n",
              "  font-size: smaller;\n",
              "  line-height: 1em;\n",
              "  font-family: monospace;\n",
              "  background-color: var(--sklearn-color-background);\n",
              "  border-radius: 1em;\n",
              "  height: 1em;\n",
              "  width: 1em;\n",
              "  text-decoration: none !important;\n",
              "  margin-left: 0.5em;\n",
              "  text-align: center;\n",
              "  /* unfitted */\n",
              "  border: var(--sklearn-color-unfitted-level-1) 1pt solid;\n",
              "  color: var(--sklearn-color-unfitted-level-1);\n",
              "}\n",
              "\n",
              ".sk-estimator-doc-link.fitted,\n",
              "a:link.sk-estimator-doc-link.fitted,\n",
              "a:visited.sk-estimator-doc-link.fitted {\n",
              "  /* fitted */\n",
              "  border: var(--sklearn-color-fitted-level-1) 1pt solid;\n",
              "  color: var(--sklearn-color-fitted-level-1);\n",
              "}\n",
              "\n",
              "/* On hover */\n",
              "div.sk-estimator:hover .sk-estimator-doc-link:hover,\n",
              ".sk-estimator-doc-link:hover,\n",
              "div.sk-label-container:hover .sk-estimator-doc-link:hover,\n",
              ".sk-estimator-doc-link:hover {\n",
              "  /* unfitted */\n",
              "  background-color: var(--sklearn-color-unfitted-level-3);\n",
              "  color: var(--sklearn-color-background);\n",
              "  text-decoration: none;\n",
              "}\n",
              "\n",
              "div.sk-estimator.fitted:hover .sk-estimator-doc-link.fitted:hover,\n",
              ".sk-estimator-doc-link.fitted:hover,\n",
              "div.sk-label-container:hover .sk-estimator-doc-link.fitted:hover,\n",
              ".sk-estimator-doc-link.fitted:hover {\n",
              "  /* fitted */\n",
              "  background-color: var(--sklearn-color-fitted-level-3);\n",
              "  color: var(--sklearn-color-background);\n",
              "  text-decoration: none;\n",
              "}\n",
              "\n",
              "/* Span, style for the box shown on hovering the info icon */\n",
              ".sk-estimator-doc-link span {\n",
              "  display: none;\n",
              "  z-index: 9999;\n",
              "  position: relative;\n",
              "  font-weight: normal;\n",
              "  right: .2ex;\n",
              "  padding: .5ex;\n",
              "  margin: .5ex;\n",
              "  width: min-content;\n",
              "  min-width: 20ex;\n",
              "  max-width: 50ex;\n",
              "  color: var(--sklearn-color-text);\n",
              "  box-shadow: 2pt 2pt 4pt #999;\n",
              "  /* unfitted */\n",
              "  background: var(--sklearn-color-unfitted-level-0);\n",
              "  border: .5pt solid var(--sklearn-color-unfitted-level-3);\n",
              "}\n",
              "\n",
              ".sk-estimator-doc-link.fitted span {\n",
              "  /* fitted */\n",
              "  background: var(--sklearn-color-fitted-level-0);\n",
              "  border: var(--sklearn-color-fitted-level-3);\n",
              "}\n",
              "\n",
              ".sk-estimator-doc-link:hover span {\n",
              "  display: block;\n",
              "}\n",
              "\n",
              "/* \"?\"-specific style due to the `<a>` HTML tag */\n",
              "\n",
              "#sk-container-id-1 a.estimator_doc_link {\n",
              "  float: right;\n",
              "  font-size: 1rem;\n",
              "  line-height: 1em;\n",
              "  font-family: monospace;\n",
              "  background-color: var(--sklearn-color-background);\n",
              "  border-radius: 1rem;\n",
              "  height: 1rem;\n",
              "  width: 1rem;\n",
              "  text-decoration: none;\n",
              "  /* unfitted */\n",
              "  color: var(--sklearn-color-unfitted-level-1);\n",
              "  border: var(--sklearn-color-unfitted-level-1) 1pt solid;\n",
              "}\n",
              "\n",
              "#sk-container-id-1 a.estimator_doc_link.fitted {\n",
              "  /* fitted */\n",
              "  border: var(--sklearn-color-fitted-level-1) 1pt solid;\n",
              "  color: var(--sklearn-color-fitted-level-1);\n",
              "}\n",
              "\n",
              "/* On hover */\n",
              "#sk-container-id-1 a.estimator_doc_link:hover {\n",
              "  /* unfitted */\n",
              "  background-color: var(--sklearn-color-unfitted-level-3);\n",
              "  color: var(--sklearn-color-background);\n",
              "  text-decoration: none;\n",
              "}\n",
              "\n",
              "#sk-container-id-1 a.estimator_doc_link.fitted:hover {\n",
              "  /* fitted */\n",
              "  background-color: var(--sklearn-color-fitted-level-3);\n",
              "}\n",
              "</style><div id=\"sk-container-id-1\" class=\"sk-top-container\"><div class=\"sk-text-repr-fallback\"><pre>SVC()</pre><b>In a Jupyter environment, please rerun this cell to show the HTML representation or trust the notebook. <br />On GitHub, the HTML representation is unable to render, please try loading this page with nbviewer.org.</b></div><div class=\"sk-container\" hidden><div class=\"sk-item\"><div class=\"sk-estimator fitted sk-toggleable\"><input class=\"sk-toggleable__control sk-hidden--visually\" id=\"sk-estimator-id-1\" type=\"checkbox\" checked><label for=\"sk-estimator-id-1\" class=\"sk-toggleable__label fitted sk-toggleable__label-arrow\"><div><div>SVC</div></div><div><a class=\"sk-estimator-doc-link fitted\" rel=\"noreferrer\" target=\"_blank\" href=\"https://scikit-learn.org/1.6/modules/generated/sklearn.svm.SVC.html\">?<span>Documentation for SVC</span></a><span class=\"sk-estimator-doc-link fitted\">i<span>Fitted</span></span></div></label><div class=\"sk-toggleable__content fitted\"><pre>SVC()</pre></div> </div></div></div></div>"
            ]
          },
          "metadata": {},
          "execution_count": 14
        }
      ],
      "source": [
        "from sklearn import svm\n",
        "\n",
        "clf = svm.SVC()\n",
        "clf.fit(X_train, y_train)"
      ]
    },
    {
      "cell_type": "code",
      "execution_count": null,
      "metadata": {
        "id": "fcaf5659",
        "outputId": "c0274738-535a-479d-ecb1-7e196984de7c",
        "colab": {
          "base_uri": "https://localhost:8080/"
        }
      },
      "outputs": [
        {
          "output_type": "stream",
          "name": "stdout",
          "text": [
            "[1 1 1 1 0 2 2 0 0 2 0 2 2 1 2 0 1 2 0 2 2 0 2 0 0 2 1 0 0 0 0 0 1 2 0 1 1\n",
            " 2 0 1 0 2 2 2 0 2 2 2 0 0 1 1 2 1 2 1 1 2 1 1]\n"
          ]
        }
      ],
      "source": [
        "preds = clf.predict(X_test)\n",
        "print(preds)"
      ]
    },
    {
      "cell_type": "code",
      "execution_count": null,
      "metadata": {
        "id": "493495d3",
        "outputId": "612576b1-2d01-4ab0-c7ac-f65b90a90ab1",
        "colab": {
          "base_uri": "https://localhost:8080/"
        }
      },
      "outputs": [
        {
          "output_type": "stream",
          "name": "stdout",
          "text": [
            "actual iris species\n",
            "[1 1 1 1 0 1 2 0 0 2 0 2 2 1 2 0 1 2 0 2 2 0 1 0 0 2 1 0 0 0 0 0 1 2 0 1 1\n",
            " 2 0 1 0 2 2 2 0 2 2 1 0 0 1 1 2 1 2 1 1 2 1 2]\n"
          ]
        }
      ],
      "source": [
        "print('actual iris species')\n",
        "print(y_test)"
      ]
    },
    {
      "cell_type": "code",
      "execution_count": null,
      "metadata": {
        "id": "90fc09b3",
        "outputId": "be595f39-69a8-401c-deba-1d38dceadd8d",
        "colab": {
          "base_uri": "https://localhost:8080/"
        }
      },
      "outputs": [
        {
          "output_type": "stream",
          "name": "stdout",
          "text": [
            "accuracy score : 0.9333333333333333\n"
          ]
        }
      ],
      "source": [
        "from sklearn.metrics import accuracy_score\n",
        "acc = accuracy_score(y_test,clf.predict(X_test) )\n",
        "print('accuracy score :', acc)"
      ]
    },
    {
      "cell_type": "markdown",
      "source": [
        "Question 5"
      ],
      "metadata": {
        "id": "Zw9l_EWm5egW"
      }
    },
    {
      "cell_type": "code",
      "execution_count": null,
      "metadata": {
        "id": "h5jDppFjLd5x",
        "outputId": "1853d457-782c-4ce7-fda7-91d0fa913b4d",
        "colab": {
          "base_uri": "https://localhost:8080/",
          "height": 519
        }
      },
      "outputs": [
        {
          "output_type": "display_data",
          "data": {
            "text/plain": [
              "\u001b[1mModel: \"sequential_3\"\u001b[0m\n"
            ],
            "text/html": [
              "<pre style=\"white-space:pre;overflow-x:auto;line-height:normal;font-family:Menlo,'DejaVu Sans Mono',consolas,'Courier New',monospace\"><span style=\"font-weight: bold\">Model: \"sequential_3\"</span>\n",
              "</pre>\n"
            ]
          },
          "metadata": {}
        },
        {
          "output_type": "display_data",
          "data": {
            "text/plain": [
              "┏━━━━━━━━━━━━━━━━━━━━━━━━━━━━━━━━━┳━━━━━━━━━━━━━━━━━━━━━━━━┳━━━━━━━━━━━━━━━┓\n",
              "┃\u001b[1m \u001b[0m\u001b[1mLayer (type)                   \u001b[0m\u001b[1m \u001b[0m┃\u001b[1m \u001b[0m\u001b[1mOutput Shape          \u001b[0m\u001b[1m \u001b[0m┃\u001b[1m \u001b[0m\u001b[1m      Param #\u001b[0m\u001b[1m \u001b[0m┃\n",
              "┡━━━━━━━━━━━━━━━━━━━━━━━━━━━━━━━━━╇━━━━━━━━━━━━━━━━━━━━━━━━╇━━━━━━━━━━━━━━━┩\n",
              "│ dense_12 (\u001b[38;5;33mDense\u001b[0m)                │ (\u001b[38;5;45mNone\u001b[0m, \u001b[38;5;34m6\u001b[0m)              │            \u001b[38;5;34m12\u001b[0m │\n",
              "├─────────────────────────────────┼────────────────────────┼───────────────┤\n",
              "│ dense_13 (\u001b[38;5;33mDense\u001b[0m)                │ (\u001b[38;5;45mNone\u001b[0m, \u001b[38;5;34m6\u001b[0m)              │            \u001b[38;5;34m42\u001b[0m │\n",
              "├─────────────────────────────────┼────────────────────────┼───────────────┤\n",
              "│ dense_14 (\u001b[38;5;33mDense\u001b[0m)                │ (\u001b[38;5;45mNone\u001b[0m, \u001b[38;5;34m6\u001b[0m)              │            \u001b[38;5;34m42\u001b[0m │\n",
              "├─────────────────────────────────┼────────────────────────┼───────────────┤\n",
              "│ dense_15 (\u001b[38;5;33mDense\u001b[0m)                │ (\u001b[38;5;45mNone\u001b[0m, \u001b[38;5;34m1\u001b[0m)              │             \u001b[38;5;34m7\u001b[0m │\n",
              "└─────────────────────────────────┴────────────────────────┴───────────────┘\n"
            ],
            "text/html": [
              "<pre style=\"white-space:pre;overflow-x:auto;line-height:normal;font-family:Menlo,'DejaVu Sans Mono',consolas,'Courier New',monospace\">┏━━━━━━━━━━━━━━━━━━━━━━━━━━━━━━━━━┳━━━━━━━━━━━━━━━━━━━━━━━━┳━━━━━━━━━━━━━━━┓\n",
              "┃<span style=\"font-weight: bold\"> Layer (type)                    </span>┃<span style=\"font-weight: bold\"> Output Shape           </span>┃<span style=\"font-weight: bold\">       Param # </span>┃\n",
              "┡━━━━━━━━━━━━━━━━━━━━━━━━━━━━━━━━━╇━━━━━━━━━━━━━━━━━━━━━━━━╇━━━━━━━━━━━━━━━┩\n",
              "│ dense_12 (<span style=\"color: #0087ff; text-decoration-color: #0087ff\">Dense</span>)                │ (<span style=\"color: #00d7ff; text-decoration-color: #00d7ff\">None</span>, <span style=\"color: #00af00; text-decoration-color: #00af00\">6</span>)              │            <span style=\"color: #00af00; text-decoration-color: #00af00\">12</span> │\n",
              "├─────────────────────────────────┼────────────────────────┼───────────────┤\n",
              "│ dense_13 (<span style=\"color: #0087ff; text-decoration-color: #0087ff\">Dense</span>)                │ (<span style=\"color: #00d7ff; text-decoration-color: #00d7ff\">None</span>, <span style=\"color: #00af00; text-decoration-color: #00af00\">6</span>)              │            <span style=\"color: #00af00; text-decoration-color: #00af00\">42</span> │\n",
              "├─────────────────────────────────┼────────────────────────┼───────────────┤\n",
              "│ dense_14 (<span style=\"color: #0087ff; text-decoration-color: #0087ff\">Dense</span>)                │ (<span style=\"color: #00d7ff; text-decoration-color: #00d7ff\">None</span>, <span style=\"color: #00af00; text-decoration-color: #00af00\">6</span>)              │            <span style=\"color: #00af00; text-decoration-color: #00af00\">42</span> │\n",
              "├─────────────────────────────────┼────────────────────────┼───────────────┤\n",
              "│ dense_15 (<span style=\"color: #0087ff; text-decoration-color: #0087ff\">Dense</span>)                │ (<span style=\"color: #00d7ff; text-decoration-color: #00d7ff\">None</span>, <span style=\"color: #00af00; text-decoration-color: #00af00\">1</span>)              │             <span style=\"color: #00af00; text-decoration-color: #00af00\">7</span> │\n",
              "└─────────────────────────────────┴────────────────────────┴───────────────┘\n",
              "</pre>\n"
            ]
          },
          "metadata": {}
        },
        {
          "output_type": "display_data",
          "data": {
            "text/plain": [
              "\u001b[1m Total params: \u001b[0m\u001b[38;5;34m311\u001b[0m (1.22 KB)\n"
            ],
            "text/html": [
              "<pre style=\"white-space:pre;overflow-x:auto;line-height:normal;font-family:Menlo,'DejaVu Sans Mono',consolas,'Courier New',monospace\"><span style=\"font-weight: bold\"> Total params: </span><span style=\"color: #00af00; text-decoration-color: #00af00\">311</span> (1.22 KB)\n",
              "</pre>\n"
            ]
          },
          "metadata": {}
        },
        {
          "output_type": "display_data",
          "data": {
            "text/plain": [
              "\u001b[1m Trainable params: \u001b[0m\u001b[38;5;34m103\u001b[0m (412.00 B)\n"
            ],
            "text/html": [
              "<pre style=\"white-space:pre;overflow-x:auto;line-height:normal;font-family:Menlo,'DejaVu Sans Mono',consolas,'Courier New',monospace\"><span style=\"font-weight: bold\"> Trainable params: </span><span style=\"color: #00af00; text-decoration-color: #00af00\">103</span> (412.00 B)\n",
              "</pre>\n"
            ]
          },
          "metadata": {}
        },
        {
          "output_type": "display_data",
          "data": {
            "text/plain": [
              "\u001b[1m Non-trainable params: \u001b[0m\u001b[38;5;34m0\u001b[0m (0.00 B)\n"
            ],
            "text/html": [
              "<pre style=\"white-space:pre;overflow-x:auto;line-height:normal;font-family:Menlo,'DejaVu Sans Mono',consolas,'Courier New',monospace\"><span style=\"font-weight: bold\"> Non-trainable params: </span><span style=\"color: #00af00; text-decoration-color: #00af00\">0</span> (0.00 B)\n",
              "</pre>\n"
            ]
          },
          "metadata": {}
        },
        {
          "output_type": "display_data",
          "data": {
            "text/plain": [
              "\u001b[1m Optimizer params: \u001b[0m\u001b[38;5;34m208\u001b[0m (836.00 B)\n"
            ],
            "text/html": [
              "<pre style=\"white-space:pre;overflow-x:auto;line-height:normal;font-family:Menlo,'DejaVu Sans Mono',consolas,'Courier New',monospace\"><span style=\"font-weight: bold\"> Optimizer params: </span><span style=\"color: #00af00; text-decoration-color: #00af00\">208</span> (836.00 B)\n",
              "</pre>\n"
            ]
          },
          "metadata": {}
        },
        {
          "output_type": "stream",
          "name": "stdout",
          "text": [
            "\u001b[1m1/1\u001b[0m \u001b[32m━━━━━━━━━━━━━━━━━━━━\u001b[0m\u001b[37m\u001b[0m \u001b[1m0s\u001b[0m 53ms/step\n",
            "[1.0] => 1.05 (expected 1.00)\n",
            "[4.0] => 1.24 (expected 1.22)\n",
            "[9.0] => 1.43 (expected 1.37)\n",
            "[16.0] => 1.49 (expected 1.49)\n",
            "[25.0] => 1.55 (expected 1.58)\n",
            "[36.0] => 1.61 (expected 1.67)\n",
            "[49.0] => 1.69 (expected 1.74)\n",
            "[64.0] => 1.78 (expected 1.81)\n",
            "[81.0] => 1.88 (expected 1.87)\n",
            "[100.0] => 2.00 (expected 1.93)\n"
          ]
        },
        {
          "output_type": "stream",
          "name": "stderr",
          "text": [
            "/tmp/ipython-input-1204860299.py:42: DeprecationWarning: Conversion of an array with ndim > 0 to a scalar is deprecated, and will error in future. Ensure you extract a single element from your array before performing this operation. (Deprecated NumPy 1.25.)\n",
            "  print('%s => %.2f (expected %.2f)' %(X[i].tolist(), predictions[i], y[i]) )\n"
          ]
        }
      ],
      "source": [
        "# Using the same code from Square_Root_Problem\n",
        "\n",
        "import tensorflow as tf\n",
        "from numpy import loadtxt\n",
        "from keras.models import Sequential\n",
        "from keras.layers import Dense\n",
        "from keras import optimizers\n",
        "from tensorflow.python.keras.optimizers import *\n",
        "import numpy as np\n",
        "\n",
        "\n",
        "#Load dataset\n",
        "#split into input (X) and output (y)\n",
        "X = np.array([[1], [4], [9], [16], [25], [36], [49], [64], [81], [100]])\n",
        "X = X*1.0\n",
        "y = np.array([[1], [4**(1/7)], [9**(1/7)], [16**(1/7)], [25**(1/7)], [36**(1/7)], [49**(1/7)], [64**(1/7)], [81**(1/7)], [100**(1/7)]])\n",
        "y = y*1.0\n",
        "\n",
        "#define keras model\n",
        "model = Sequential()\n",
        "\n",
        "model.add(Dense(6,input_dim=1,activation='relu'))\n",
        "model.add(Dense(6,activation='relu'))\n",
        "model.add(Dense(6,activation='relu'))\n",
        "model.add(Dense(1))\n",
        "\n",
        "#compile the keras model\n",
        "opt = optimizers.Adam(learning_rate=0.001)\n",
        "mse = tf.keras.losses.MeanSquaredError(\n",
        "    reduction=tf.keras.losses.Reduction.SUM)\n",
        "model.compile(loss=mse, optimizer=opt)\n",
        "\n",
        "\n",
        "\n",
        "#fit the keras model on the dataset (CPU)\n",
        "model.fit(X,y,epochs=2000,batch_size=10, verbose=0)\n",
        "model.summary()\n",
        "\n",
        "#make class predictions with the model\n",
        "predictions = model.predict(X)\n",
        "\n",
        "#summarize the first 10 cases\n",
        "for i in range(10):\n",
        "    print('%s => %.2f (expected %.2f)' %(X[i].tolist(), predictions[i], y[i]) )"
      ]
    },
    {
      "cell_type": "code",
      "execution_count": null,
      "metadata": {
        "id": "n1CIXUlPjkct",
        "outputId": "8b9e391f-8ff5-4854-8582-4fc6ca082467",
        "colab": {
          "base_uri": "https://localhost:8080/",
          "height": 484
        }
      },
      "outputs": [
        {
          "output_type": "stream",
          "name": "stdout",
          "text": [
            "\u001b[1m4/4\u001b[0m \u001b[32m━━━━━━━━━━━━━━━━━━━━\u001b[0m\u001b[37m\u001b[0m \u001b[1m0s\u001b[0m 6ms/step \n"
          ]
        },
        {
          "output_type": "execute_result",
          "data": {
            "text/plain": [
              "<matplotlib.legend.Legend at 0x7f948e5b90a0>"
            ]
          },
          "metadata": {},
          "execution_count": 8
        },
        {
          "output_type": "display_data",
          "data": {
            "text/plain": [
              "<Figure size 640x480 with 1 Axes>"
            ],
            "image/png": "[encoded data removed]"
          },
          "metadata": {}
        }
      ],
      "source": [
        "import matplotlib.pyplot as plt\n",
        "number_grid = np.linspace(1, 100, 100)\n",
        "plt.scatter(X,y, label='data')\n",
        "plt.plot(number_grid,model.predict(np.expand_dims(number_grid,axis=1)) , color='red', label='model')\n",
        "plt.xlabel('number')\n",
        "plt.ylabel('Seventh root')\n",
        "plt.legend()"
      ]
    },
    {
      "cell_type": "markdown",
      "source": [
        "Question 6"
      ],
      "metadata": {
        "id": "lcV4OMvO54q2"
      }
    },
    {
      "cell_type": "markdown",
      "source": [
        "![image.png](data:image/png;base64,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)"
      ],
      "metadata": {
        "id": "BLuzPFyY5jdW"
      }
    },
    {
      "cell_type": "code",
      "source": [
        "iris"
      ],
      "metadata": {
        "colab": {
          "base_uri": "https://localhost:8080/"
        },
        "id": "GH66sH6BUvza",
        "outputId": "87b80b39-7e3d-4a29-f829-8fd8a7344fbe"
      },
      "execution_count": 7,
      "outputs": [
        {
          "output_type": "execute_result",
          "data": {
            "text/plain": [
              "{'data': array([[5.1, 3.5, 1.4, 0.2],\n",
              "        [4.9, 3. , 1.4, 0.2],\n",
              "        [4.7, 3.2, 1.3, 0.2],\n",
              "        [4.6, 3.1, 1.5, 0.2],\n",
              "        [5. , 3.6, 1.4, 0.2],\n",
              "        [5.4, 3.9, 1.7, 0.4],\n",
              "        [4.6, 3.4, 1.4, 0.3],\n",
              "        [5. , 3.4, 1.5, 0.2],\n",
              "        [4.4, 2.9, 1.4, 0.2],\n",
              "        [4.9, 3.1, 1.5, 0.1],\n",
              "        [5.4, 3.7, 1.5, 0.2],\n",
              "        [4.8, 3.4, 1.6, 0.2],\n",
              "        [4.8, 3. , 1.4, 0.1],\n",
              "        [4.3, 3. , 1.1, 0.1],\n",
              "        [5.8, 4. , 1.2, 0.2],\n",
              "        [5.7, 4.4, 1.5, 0.4],\n",
              "        [5.4, 3.9, 1.3, 0.4],\n",
              "        [5.1, 3.5, 1.4, 0.3],\n",
              "        [5.7, 3.8, 1.7, 0.3],\n",
              "        [5.1, 3.8, 1.5, 0.3],\n",
              "        [5.4, 3.4, 1.7, 0.2],\n",
              "        [5.1, 3.7, 1.5, 0.4],\n",
              "        [4.6, 3.6, 1. , 0.2],\n",
              "        [5.1, 3.3, 1.7, 0.5],\n",
              "        [4.8, 3.4, 1.9, 0.2],\n",
              "        [5. , 3. , 1.6, 0.2],\n",
              "        [5. , 3.4, 1.6, 0.4],\n",
              "        [5.2, 3.5, 1.5, 0.2],\n",
              "        [5.2, 3.4, 1.4, 0.2],\n",
              "        [4.7, 3.2, 1.6, 0.2],\n",
              "        [4.8, 3.1, 1.6, 0.2],\n",
              "        [5.4, 3.4, 1.5, 0.4],\n",
              "        [5.2, 4.1, 1.5, 0.1],\n",
              "        [5.5, 4.2, 1.4, 0.2],\n",
              "        [4.9, 3.1, 1.5, 0.2],\n",
              "        [5. , 3.2, 1.2, 0.2],\n",
              "        [5.5, 3.5, 1.3, 0.2],\n",
              "        [4.9, 3.6, 1.4, 0.1],\n",
              "        [4.4, 3. , 1.3, 0.2],\n",
              "        [5.1, 3.4, 1.5, 0.2],\n",
              "        [5. , 3.5, 1.3, 0.3],\n",
              "        [4.5, 2.3, 1.3, 0.3],\n",
              "        [4.4, 3.2, 1.3, 0.2],\n",
              "        [5. , 3.5, 1.6, 0.6],\n",
              "        [5.1, 3.8, 1.9, 0.4],\n",
              "        [4.8, 3. , 1.4, 0.3],\n",
              "        [5.1, 3.8, 1.6, 0.2],\n",
              "        [4.6, 3.2, 1.4, 0.2],\n",
              "        [5.3, 3.7, 1.5, 0.2],\n",
              "        [5. , 3.3, 1.4, 0.2],\n",
              "        [7. , 3.2, 4.7, 1.4],\n",
              "        [6.4, 3.2, 4.5, 1.5],\n",
              "        [6.9, 3.1, 4.9, 1.5],\n",
              "        [5.5, 2.3, 4. , 1.3],\n",
              "        [6.5, 2.8, 4.6, 1.5],\n",
              "        [5.7, 2.8, 4.5, 1.3],\n",
              "        [6.3, 3.3, 4.7, 1.6],\n",
              "        [4.9, 2.4, 3.3, 1. ],\n",
              "        [6.6, 2.9, 4.6, 1.3],\n",
              "        [5.2, 2.7, 3.9, 1.4],\n",
              "        [5. , 2. , 3.5, 1. ],\n",
              "        [5.9, 3. , 4.2, 1.5],\n",
              "        [6. , 2.2, 4. , 1. ],\n",
              "        [6.1, 2.9, 4.7, 1.4],\n",
              "        [5.6, 2.9, 3.6, 1.3],\n",
              "        [6.7, 3.1, 4.4, 1.4],\n",
              "        [5.6, 3. , 4.5, 1.5],\n",
              "        [5.8, 2.7, 4.1, 1. ],\n",
              "        [6.2, 2.2, 4.5, 1.5],\n",
              "        [5.6, 2.5, 3.9, 1.1],\n",
              "        [5.9, 3.2, 4.8, 1.8],\n",
              "        [6.1, 2.8, 4. , 1.3],\n",
              "        [6.3, 2.5, 4.9, 1.5],\n",
              "        [6.1, 2.8, 4.7, 1.2],\n",
              "        [6.4, 2.9, 4.3, 1.3],\n",
              "        [6.6, 3. , 4.4, 1.4],\n",
              "        [6.8, 2.8, 4.8, 1.4],\n",
              "        [6.7, 3. , 5. , 1.7],\n",
              "        [6. , 2.9, 4.5, 1.5],\n",
              "        [5.7, 2.6, 3.5, 1. ],\n",
              "        [5.5, 2.4, 3.8, 1.1],\n",
              "        [5.5, 2.4, 3.7, 1. ],\n",
              "        [5.8, 2.7, 3.9, 1.2],\n",
              "        [6. , 2.7, 5.1, 1.6],\n",
              "        [5.4, 3. , 4.5, 1.5],\n",
              "        [6. , 3.4, 4.5, 1.6],\n",
              "        [6.7, 3.1, 4.7, 1.5],\n",
              "        [6.3, 2.3, 4.4, 1.3],\n",
              "        [5.6, 3. , 4.1, 1.3],\n",
              "        [5.5, 2.5, 4. , 1.3],\n",
              "        [5.5, 2.6, 4.4, 1.2],\n",
              "        [6.1, 3. , 4.6, 1.4],\n",
              "        [5.8, 2.6, 4. , 1.2],\n",
              "        [5. , 2.3, 3.3, 1. ],\n",
              "        [5.6, 2.7, 4.2, 1.3],\n",
              "        [5.7, 3. , 4.2, 1.2],\n",
              "        [5.7, 2.9, 4.2, 1.3],\n",
              "        [6.2, 2.9, 4.3, 1.3],\n",
              "        [5.1, 2.5, 3. , 1.1],\n",
              "        [5.7, 2.8, 4.1, 1.3],\n",
              "        [6.3, 3.3, 6. , 2.5],\n",
              "        [5.8, 2.7, 5.1, 1.9],\n",
              "        [7.1, 3. , 5.9, 2.1],\n",
              "        [6.3, 2.9, 5.6, 1.8],\n",
              "        [6.5, 3. , 5.8, 2.2],\n",
              "        [7.6, 3. , 6.6, 2.1],\n",
              "        [4.9, 2.5, 4.5, 1.7],\n",
              "        [7.3, 2.9, 6.3, 1.8],\n",
              "        [6.7, 2.5, 5.8, 1.8],\n",
              "        [7.2, 3.6, 6.1, 2.5],\n",
              "        [6.5, 3.2, 5.1, 2. ],\n",
              "        [6.4, 2.7, 5.3, 1.9],\n",
              "        [6.8, 3. , 5.5, 2.1],\n",
              "        [5.7, 2.5, 5. , 2. ],\n",
              "        [5.8, 2.8, 5.1, 2.4],\n",
              "        [6.4, 3.2, 5.3, 2.3],\n",
              "        [6.5, 3. , 5.5, 1.8],\n",
              "        [7.7, 3.8, 6.7, 2.2],\n",
              "        [7.7, 2.6, 6.9, 2.3],\n",
              "        [6. , 2.2, 5. , 1.5],\n",
              "        [6.9, 3.2, 5.7, 2.3],\n",
              "        [5.6, 2.8, 4.9, 2. ],\n",
              "        [7.7, 2.8, 6.7, 2. ],\n",
              "        [6.3, 2.7, 4.9, 1.8],\n",
              "        [6.7, 3.3, 5.7, 2.1],\n",
              "        [7.2, 3.2, 6. , 1.8],\n",
              "        [6.2, 2.8, 4.8, 1.8],\n",
              "        [6.1, 3. , 4.9, 1.8],\n",
              "        [6.4, 2.8, 5.6, 2.1],\n",
              "        [7.2, 3. , 5.8, 1.6],\n",
              "        [7.4, 2.8, 6.1, 1.9],\n",
              "        [7.9, 3.8, 6.4, 2. ],\n",
              "        [6.4, 2.8, 5.6, 2.2],\n",
              "        [6.3, 2.8, 5.1, 1.5],\n",
              "        [6.1, 2.6, 5.6, 1.4],\n",
              "        [7.7, 3. , 6.1, 2.3],\n",
              "        [6.3, 3.4, 5.6, 2.4],\n",
              "        [6.4, 3.1, 5.5, 1.8],\n",
              "        [6. , 3. , 4.8, 1.8],\n",
              "        [6.9, 3.1, 5.4, 2.1],\n",
              "        [6.7, 3.1, 5.6, 2.4],\n",
              "        [6.9, 3.1, 5.1, 2.3],\n",
              "        [5.8, 2.7, 5.1, 1.9],\n",
              "        [6.8, 3.2, 5.9, 2.3],\n",
              "        [6.7, 3.3, 5.7, 2.5],\n",
              "        [6.7, 3. , 5.2, 2.3],\n",
              "        [6.3, 2.5, 5. , 1.9],\n",
              "        [6.5, 3. , 5.2, 2. ],\n",
              "        [6.2, 3.4, 5.4, 2.3],\n",
              "        [5.9, 3. , 5.1, 1.8]]),\n",
              " 'target': array([0, 0, 0, 0, 0, 0, 0, 0, 0, 0, 0, 0, 0, 0, 0, 0, 0, 0, 0, 0, 0, 0,\n",
              "        0, 0, 0, 0, 0, 0, 0, 0, 0, 0, 0, 0, 0, 0, 0, 0, 0, 0, 0, 0, 0, 0,\n",
              "        0, 0, 0, 0, 0, 0, 1, 1, 1, 1, 1, 1, 1, 1, 1, 1, 1, 1, 1, 1, 1, 1,\n",
              "        1, 1, 1, 1, 1, 1, 1, 1, 1, 1, 1, 1, 1, 1, 1, 1, 1, 1, 1, 1, 1, 1,\n",
              "        1, 1, 1, 1, 1, 1, 1, 1, 1, 1, 1, 1, 2, 2, 2, 2, 2, 2, 2, 2, 2, 2,\n",
              "        2, 2, 2, 2, 2, 2, 2, 2, 2, 2, 2, 2, 2, 2, 2, 2, 2, 2, 2, 2, 2, 2,\n",
              "        2, 2, 2, 2, 2, 2, 2, 2, 2, 2, 2, 2, 2, 2, 2, 2, 2, 2]),\n",
              " 'frame': None,\n",
              " 'target_names': array(['setosa', 'versicolor', 'virginica'], dtype='<U10'),\n",
              " 'DESCR': '.. _iris_dataset:\\n\\nIris plants dataset\\n--------------------\\n\\n**Data Set Characteristics:**\\n\\n:Number of Instances: 150 (50 in each of three classes)\\n:Number of Attributes: 4 numeric, predictive attributes and the class\\n:Attribute Information:\\n    - sepal length in cm\\n    - sepal width in cm\\n    - petal length in cm\\n    - petal width in cm\\n    - class:\\n            - Iris-Setosa\\n            - Iris-Versicolour\\n            - Iris-Virginica\\n\\n:Summary Statistics:\\n\\n============== ==== ==== ======= ===== ====================\\n                Min  Max   Mean    SD   Class Correlation\\n============== ==== ==== ======= ===== ====================\\nsepal length:   4.3  7.9   5.84   0.83    0.7826\\nsepal width:    2.0  4.4   3.05   0.43   -0.4194\\npetal length:   1.0  6.9   3.76   1.76    0.9490  (high!)\\npetal width:    0.1  2.5   1.20   0.76    0.9565  (high!)\\n============== ==== ==== ======= ===== ====================\\n\\n:Missing Attribute Values: None\\n:Class Distribution: 33.3% for each of 3 classes.\\n:Creator: R.A. Fisher\\n:Donor: Michael Marshall (MARSHALL%PLU@io.arc.nasa.gov)\\n:Date: July, 1988\\n\\nThe famous Iris database, first used by Sir R.A. Fisher. The dataset is taken\\nfrom Fisher\\'s paper. Note that it\\'s the same as in R, but not as in the UCI\\nMachine Learning Repository, which has two wrong data points.\\n\\nThis is perhaps the best known database to be found in the\\npattern recognition literature.  Fisher\\'s paper is a classic in the field and\\nis referenced frequently to this day.  (See Duda & Hart, for example.)  The\\ndata set contains 3 classes of 50 instances each, where each class refers to a\\ntype of iris plant.  One class is linearly separable from the other 2; the\\nlatter are NOT linearly separable from each other.\\n\\n.. dropdown:: References\\n\\n  - Fisher, R.A. \"The use of multiple measurements in taxonomic problems\"\\n    Annual Eugenics, 7, Part II, 179-188 (1936); also in \"Contributions to\\n    Mathematical Statistics\" (John Wiley, NY, 1950).\\n  - Duda, R.O., & Hart, P.E. (1973) Pattern Classification and Scene Analysis.\\n    (Q327.D83) John Wiley & Sons.  ISBN 0-471-22361-1.  See page 218.\\n  - Dasarathy, B.V. (1980) \"Nosing Around the Neighborhood: A New System\\n    Structure and Classification Rule for Recognition in Partially Exposed\\n    Environments\".  IEEE Transactions on Pattern Analysis and Machine\\n    Intelligence, Vol. PAMI-2, No. 1, 67-71.\\n  - Gates, G.W. (1972) \"The Reduced Nearest Neighbor Rule\".  IEEE Transactions\\n    on Information Theory, May 1972, 431-433.\\n  - See also: 1988 MLC Proceedings, 54-64.  Cheeseman et al\"s AUTOCLASS II\\n    conceptual clustering system finds 3 classes in the data.\\n  - Many, many more ...\\n',\n",
              " 'feature_names': ['sepal length (cm)',\n",
              "  'sepal width (cm)',\n",
              "  'petal length (cm)',\n",
              "  'petal width (cm)'],\n",
              " 'filename': 'iris.csv',\n",
              " 'data_module': 'sklearn.datasets.data'}"
            ]
          },
          "metadata": {},
          "execution_count": 7
        }
      ]
    },
    {
      "cell_type": "code",
      "source": [
        "from sklearn import datasets\n",
        "import tensorflow as tf\n",
        "from numpy import loadtxt\n",
        "from keras.models import Sequential\n",
        "from keras.layers import Dense\n",
        "from keras import optimizers\n",
        "from tensorflow.python.keras.optimizers import *\n",
        "import numpy as np\n",
        "\n",
        "iris = datasets.load_iris()\n",
        "\n",
        "#define keras model\n",
        "model = Sequential()\n",
        "\n",
        "model.add(Dense(6,input_dim=1,activation='relu'))\n",
        "model.add(Dense(6,activation='relu'))\n",
        "model.add(Dense(6,activation='relu'))\n",
        "model.add(Dense(1))\n",
        "\n",
        "#compile the keras model\n",
        "opt = optimizers.Adam(learning_rate=0.001)\n",
        "mse = tf.keras.losses.MeanSquaredError(\n",
        "    reduction=tf.keras.losses.Reduction.SUM)\n",
        "model.compile(loss=mse, optimizer=opt)\n",
        "\n",
        "'''define x (sepal length) input array and y (petal length) output array'''\n",
        "\n",
        "x = iris.data[:,0]\n",
        "\n",
        "y = iris.data[:,2]\n",
        "\n",
        "\n",
        "#fit the keras model on the dataset (CPU)\n",
        "model.fit(x,y,epochs=2000,batch_size=10, verbose=0)\n",
        "model.summary()\n",
        "\n",
        "#make class predictions with the model\n",
        "predictions = model.predict(x)\n",
        "\n",
        "#summarize the first 10 cases\n",
        "for i in range(10):\n",
        "    print('%s => %.2f (expected %.2f)' %(x[i].tolist(), predictions[i], y[i]) )\n",
        "\n",
        "\n",
        "from sklearn.metrics import mean_squared_error, r2_score\n",
        "\n",
        "\n",
        "# Compute Mean Squared Error\n",
        "mse_value = mean_squared_error(y, predictions)\n",
        "\n",
        "# Compute R^2 Score\n",
        "r2 = r2_score(y, predictions)\n",
        "\n",
        "print(\"Mean Squared Error (MSE):\", mse_value)\n",
        "print(\"R^2 Score:\", r2)"
      ],
      "metadata": {
        "colab": {
          "base_uri": "https://localhost:8080/",
          "height": 553
        },
        "id": "L3tp5zco5nls",
        "outputId": "8a357f83-580c-4273-ba3c-da07244cd4ee"
      },
      "execution_count": 10,
      "outputs": [
        {
          "output_type": "display_data",
          "data": {
            "text/plain": [
              "\u001b[1mModel: \"sequential_5\"\u001b[0m\n"
            ],
            "text/html": [
              "<pre style=\"white-space:pre;overflow-x:auto;line-height:normal;font-family:Menlo,'DejaVu Sans Mono',consolas,'Courier New',monospace\"><span style=\"font-weight: bold\">Model: \"sequential_5\"</span>\n",
              "</pre>\n"
            ]
          },
          "metadata": {}
        },
        {
          "output_type": "display_data",
          "data": {
            "text/plain": [
              "┏━━━━━━━━━━━━━━━━━━━━━━━━━━━━━━━━━┳━━━━━━━━━━━━━━━━━━━━━━━━┳━━━━━━━━━━━━━━━┓\n",
              "┃\u001b[1m \u001b[0m\u001b[1mLayer (type)                   \u001b[0m\u001b[1m \u001b[0m┃\u001b[1m \u001b[0m\u001b[1mOutput Shape          \u001b[0m\u001b[1m \u001b[0m┃\u001b[1m \u001b[0m\u001b[1m      Param #\u001b[0m\u001b[1m \u001b[0m┃\n",
              "┡━━━━━━━━━━━━━━━━━━━━━━━━━━━━━━━━━╇━━━━━━━━━━━━━━━━━━━━━━━━╇━━━━━━━━━━━━━━━┩\n",
              "│ dense_20 (\u001b[38;5;33mDense\u001b[0m)                │ (\u001b[38;5;45mNone\u001b[0m, \u001b[38;5;34m6\u001b[0m)              │            \u001b[38;5;34m12\u001b[0m │\n",
              "├─────────────────────────────────┼────────────────────────┼───────────────┤\n",
              "│ dense_21 (\u001b[38;5;33mDense\u001b[0m)                │ (\u001b[38;5;45mNone\u001b[0m, \u001b[38;5;34m6\u001b[0m)              │            \u001b[38;5;34m42\u001b[0m │\n",
              "├─────────────────────────────────┼────────────────────────┼───────────────┤\n",
              "│ dense_22 (\u001b[38;5;33mDense\u001b[0m)                │ (\u001b[38;5;45mNone\u001b[0m, \u001b[38;5;34m6\u001b[0m)              │            \u001b[38;5;34m42\u001b[0m │\n",
              "├─────────────────────────────────┼────────────────────────┼───────────────┤\n",
              "│ dense_23 (\u001b[38;5;33mDense\u001b[0m)                │ (\u001b[38;5;45mNone\u001b[0m, \u001b[38;5;34m1\u001b[0m)              │             \u001b[38;5;34m7\u001b[0m │\n",
              "└─────────────────────────────────┴────────────────────────┴───────────────┘\n"
            ],
            "text/html": [
              "<pre style=\"white-space:pre;overflow-x:auto;line-height:normal;font-family:Menlo,'DejaVu Sans Mono',consolas,'Courier New',monospace\">┏━━━━━━━━━━━━━━━━━━━━━━━━━━━━━━━━━┳━━━━━━━━━━━━━━━━━━━━━━━━┳━━━━━━━━━━━━━━━┓\n",
              "┃<span style=\"font-weight: bold\"> Layer (type)                    </span>┃<span style=\"font-weight: bold\"> Output Shape           </span>┃<span style=\"font-weight: bold\">       Param # </span>┃\n",
              "┡━━━━━━━━━━━━━━━━━━━━━━━━━━━━━━━━━╇━━━━━━━━━━━━━━━━━━━━━━━━╇━━━━━━━━━━━━━━━┩\n",
              "│ dense_20 (<span style=\"color: #0087ff; text-decoration-color: #0087ff\">Dense</span>)                │ (<span style=\"color: #00d7ff; text-decoration-color: #00d7ff\">None</span>, <span style=\"color: #00af00; text-decoration-color: #00af00\">6</span>)              │            <span style=\"color: #00af00; text-decoration-color: #00af00\">12</span> │\n",
              "├─────────────────────────────────┼────────────────────────┼───────────────┤\n",
              "│ dense_21 (<span style=\"color: #0087ff; text-decoration-color: #0087ff\">Dense</span>)                │ (<span style=\"color: #00d7ff; text-decoration-color: #00d7ff\">None</span>, <span style=\"color: #00af00; text-decoration-color: #00af00\">6</span>)              │            <span style=\"color: #00af00; text-decoration-color: #00af00\">42</span> │\n",
              "├─────────────────────────────────┼────────────────────────┼───────────────┤\n",
              "│ dense_22 (<span style=\"color: #0087ff; text-decoration-color: #0087ff\">Dense</span>)                │ (<span style=\"color: #00d7ff; text-decoration-color: #00d7ff\">None</span>, <span style=\"color: #00af00; text-decoration-color: #00af00\">6</span>)              │            <span style=\"color: #00af00; text-decoration-color: #00af00\">42</span> │\n",
              "├─────────────────────────────────┼────────────────────────┼───────────────┤\n",
              "│ dense_23 (<span style=\"color: #0087ff; text-decoration-color: #0087ff\">Dense</span>)                │ (<span style=\"color: #00d7ff; text-decoration-color: #00d7ff\">None</span>, <span style=\"color: #00af00; text-decoration-color: #00af00\">1</span>)              │             <span style=\"color: #00af00; text-decoration-color: #00af00\">7</span> │\n",
              "└─────────────────────────────────┴────────────────────────┴───────────────┘\n",
              "</pre>\n"
            ]
          },
          "metadata": {}
        },
        {
          "output_type": "display_data",
          "data": {
            "text/plain": [
              "\u001b[1m Total params: \u001b[0m\u001b[38;5;34m311\u001b[0m (1.22 KB)\n"
            ],
            "text/html": [
              "<pre style=\"white-space:pre;overflow-x:auto;line-height:normal;font-family:Menlo,'DejaVu Sans Mono',consolas,'Courier New',monospace\"><span style=\"font-weight: bold\"> Total params: </span><span style=\"color: #00af00; text-decoration-color: #00af00\">311</span> (1.22 KB)\n",
              "</pre>\n"
            ]
          },
          "metadata": {}
        },
        {
          "output_type": "display_data",
          "data": {
            "text/plain": [
              "\u001b[1m Trainable params: \u001b[0m\u001b[38;5;34m103\u001b[0m (412.00 B)\n"
            ],
            "text/html": [
              "<pre style=\"white-space:pre;overflow-x:auto;line-height:normal;font-family:Menlo,'DejaVu Sans Mono',consolas,'Courier New',monospace\"><span style=\"font-weight: bold\"> Trainable params: </span><span style=\"color: #00af00; text-decoration-color: #00af00\">103</span> (412.00 B)\n",
              "</pre>\n"
            ]
          },
          "metadata": {}
        },
        {
          "output_type": "display_data",
          "data": {
            "text/plain": [
              "\u001b[1m Non-trainable params: \u001b[0m\u001b[38;5;34m0\u001b[0m (0.00 B)\n"
            ],
            "text/html": [
              "<pre style=\"white-space:pre;overflow-x:auto;line-height:normal;font-family:Menlo,'DejaVu Sans Mono',consolas,'Courier New',monospace\"><span style=\"font-weight: bold\"> Non-trainable params: </span><span style=\"color: #00af00; text-decoration-color: #00af00\">0</span> (0.00 B)\n",
              "</pre>\n"
            ]
          },
          "metadata": {}
        },
        {
          "output_type": "display_data",
          "data": {
            "text/plain": [
              "\u001b[1m Optimizer params: \u001b[0m\u001b[38;5;34m208\u001b[0m (836.00 B)\n"
            ],
            "text/html": [
              "<pre style=\"white-space:pre;overflow-x:auto;line-height:normal;font-family:Menlo,'DejaVu Sans Mono',consolas,'Courier New',monospace\"><span style=\"font-weight: bold\"> Optimizer params: </span><span style=\"color: #00af00; text-decoration-color: #00af00\">208</span> (836.00 B)\n",
              "</pre>\n"
            ]
          },
          "metadata": {}
        },
        {
          "output_type": "stream",
          "name": "stdout",
          "text": [
            "\u001b[1m5/5\u001b[0m \u001b[32m━━━━━━━━━━━━━━━━━━━━\u001b[0m\u001b[37m\u001b[0m \u001b[1m0s\u001b[0m 15ms/step\n",
            "5.1 => 2.30 (expected 1.40)\n",
            "4.9 => 1.83 (expected 1.40)\n",
            "4.7 => 1.36 (expected 1.30)\n",
            "4.6 => 1.13 (expected 1.50)\n",
            "5.0 => 2.07 (expected 1.40)\n",
            "5.4 => 3.01 (expected 1.70)\n",
            "4.6 => 1.13 (expected 1.40)\n",
            "5.0 => 2.07 (expected 1.50)\n",
            "4.4 => 0.66 (expected 1.40)\n",
            "4.9 => 1.83 (expected 1.50)\n",
            "Mean Squared Error (MSE): 0.6540197279473587\n",
            "R^2 Score: 0.7887193782806113\n"
          ]
        },
        {
          "output_type": "stream",
          "name": "stderr",
          "text": [
            "/tmp/ipython-input-4151356590.py:42: DeprecationWarning: Conversion of an array with ndim > 0 to a scalar is deprecated, and will error in future. Ensure you extract a single element from your array before performing this operation. (Deprecated NumPy 1.25.)\n",
            "  print('%s => %.2f (expected %.2f)' %(x[i].tolist(), predictions[i], y[i]) )\n"
          ]
        }
      ]
    }
  ]
}